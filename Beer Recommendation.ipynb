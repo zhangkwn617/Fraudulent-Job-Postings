{
  "nbformat": 4,
  "nbformat_minor": 0,
  "metadata": {
    "colab": {
      "name": "HW 2.ipynb",
      "provenance": [],
      "collapsed_sections": [],
      "toc_visible": true,
      "include_colab_link": true
    },
    "kernelspec": {
      "name": "python3",
      "display_name": "Python 3"
    },
    "accelerator": "GPU"
  },
  "cells": [
    {
      "cell_type": "markdown",
      "metadata": {
        "id": "view-in-github",
        "colab_type": "text"
      },
      "source": [
        "<a href=\"https://colab.research.google.com/github/zhangkwn617/M.S.B.A.-Projects/blob/main/Beer%20Recommendation.ipynb\" target=\"_parent\"><img src=\"https://colab.research.google.com/assets/colab-badge.svg\" alt=\"Open In Colab\"/></a>"
      ]
    },
    {
      "cell_type": "markdown",
      "metadata": {
        "id": "QxVsYZ53aT66"
      },
      "source": [
        "#Text Analysis Homework 2: Recommending Beer\n",
        "###Justin Wagers\n",
        "### Daniel Stern\n",
        "### Kaiwen Zhang\n",
        "### Tairan Deng\n",
        "### Maryam Blooki\n",
        "### Sunny Vidhani\n"
      ]
    },
    {
      "cell_type": "markdown",
      "metadata": {
        "id": "ZyMY4NzAa295"
      },
      "source": [
        "## Task A\n",
        "\n",
        "Here we scrape 25 reviews for 250 beers for a total of 6,250 reviews from Beer Advocate's top rated beers list. We also scrape the numerical rating for each review. "
      ]
    },
    {
      "cell_type": "code",
      "metadata": {
        "id": "smXKlzcIaEm6",
        "outputId": "ad5e97d8-5f8d-4095-8392-20f75988ba93",
        "colab": {
          "base_uri": "https://localhost:8080/",
          "height": 1000
        }
      },
      "source": [
        "!pip install selenium\n",
        "!apt-get -q update \n",
        "!apt install -yq chromium-chromedriver"
      ],
      "execution_count": null,
      "outputs": [
        {
          "output_type": "stream",
          "text": [
            "Collecting selenium\n",
            "\u001b[?25l  Downloading https://files.pythonhosted.org/packages/80/d6/4294f0b4bce4de0abf13e17190289f9d0613b0a44e5dd6a7f5ca98459853/selenium-3.141.0-py2.py3-none-any.whl (904kB)\n",
            "\r\u001b[K     |▍                               | 10kB 14.8MB/s eta 0:00:01\r\u001b[K     |▊                               | 20kB 2.8MB/s eta 0:00:01\r\u001b[K     |█                               | 30kB 3.5MB/s eta 0:00:01\r\u001b[K     |█▌                              | 40kB 3.9MB/s eta 0:00:01\r\u001b[K     |█▉                              | 51kB 3.3MB/s eta 0:00:01\r\u001b[K     |██▏                             | 61kB 3.7MB/s eta 0:00:01\r\u001b[K     |██▌                             | 71kB 4.1MB/s eta 0:00:01\r\u001b[K     |███                             | 81kB 4.3MB/s eta 0:00:01\r\u001b[K     |███▎                            | 92kB 4.7MB/s eta 0:00:01\r\u001b[K     |███▋                            | 102kB 4.5MB/s eta 0:00:01\r\u001b[K     |████                            | 112kB 4.5MB/s eta 0:00:01\r\u001b[K     |████▍                           | 122kB 4.5MB/s eta 0:00:01\r\u001b[K     |████▊                           | 133kB 4.5MB/s eta 0:00:01\r\u001b[K     |█████                           | 143kB 4.5MB/s eta 0:00:01\r\u001b[K     |█████▍                          | 153kB 4.5MB/s eta 0:00:01\r\u001b[K     |█████▉                          | 163kB 4.5MB/s eta 0:00:01\r\u001b[K     |██████▏                         | 174kB 4.5MB/s eta 0:00:01\r\u001b[K     |██████▌                         | 184kB 4.5MB/s eta 0:00:01\r\u001b[K     |██████▉                         | 194kB 4.5MB/s eta 0:00:01\r\u001b[K     |███████▎                        | 204kB 4.5MB/s eta 0:00:01\r\u001b[K     |███████▋                        | 215kB 4.5MB/s eta 0:00:01\r\u001b[K     |████████                        | 225kB 4.5MB/s eta 0:00:01\r\u001b[K     |████████▎                       | 235kB 4.5MB/s eta 0:00:01\r\u001b[K     |████████▊                       | 245kB 4.5MB/s eta 0:00:01\r\u001b[K     |█████████                       | 256kB 4.5MB/s eta 0:00:01\r\u001b[K     |█████████▍                      | 266kB 4.5MB/s eta 0:00:01\r\u001b[K     |█████████▉                      | 276kB 4.5MB/s eta 0:00:01\r\u001b[K     |██████████▏                     | 286kB 4.5MB/s eta 0:00:01\r\u001b[K     |██████████▌                     | 296kB 4.5MB/s eta 0:00:01\r\u001b[K     |██████████▉                     | 307kB 4.5MB/s eta 0:00:01\r\u001b[K     |███████████▎                    | 317kB 4.5MB/s eta 0:00:01\r\u001b[K     |███████████▋                    | 327kB 4.5MB/s eta 0:00:01\r\u001b[K     |████████████                    | 337kB 4.5MB/s eta 0:00:01\r\u001b[K     |████████████▎                   | 348kB 4.5MB/s eta 0:00:01\r\u001b[K     |████████████▊                   | 358kB 4.5MB/s eta 0:00:01\r\u001b[K     |█████████████                   | 368kB 4.5MB/s eta 0:00:01\r\u001b[K     |█████████████▍                  | 378kB 4.5MB/s eta 0:00:01\r\u001b[K     |█████████████▊                  | 389kB 4.5MB/s eta 0:00:01\r\u001b[K     |██████████████▏                 | 399kB 4.5MB/s eta 0:00:01\r\u001b[K     |██████████████▌                 | 409kB 4.5MB/s eta 0:00:01\r\u001b[K     |██████████████▉                 | 419kB 4.5MB/s eta 0:00:01\r\u001b[K     |███████████████▏                | 430kB 4.5MB/s eta 0:00:01\r\u001b[K     |███████████████▋                | 440kB 4.5MB/s eta 0:00:01\r\u001b[K     |████████████████                | 450kB 4.5MB/s eta 0:00:01\r\u001b[K     |████████████████▎               | 460kB 4.5MB/s eta 0:00:01\r\u001b[K     |████████████████▋               | 471kB 4.5MB/s eta 0:00:01\r\u001b[K     |█████████████████               | 481kB 4.5MB/s eta 0:00:01\r\u001b[K     |█████████████████▍              | 491kB 4.5MB/s eta 0:00:01\r\u001b[K     |█████████████████▊              | 501kB 4.5MB/s eta 0:00:01\r\u001b[K     |██████████████████▏             | 512kB 4.5MB/s eta 0:00:01\r\u001b[K     |██████████████████▌             | 522kB 4.5MB/s eta 0:00:01\r\u001b[K     |██████████████████▉             | 532kB 4.5MB/s eta 0:00:01\r\u001b[K     |███████████████████▏            | 542kB 4.5MB/s eta 0:00:01\r\u001b[K     |███████████████████▋            | 552kB 4.5MB/s eta 0:00:01\r\u001b[K     |████████████████████            | 563kB 4.5MB/s eta 0:00:01\r\u001b[K     |████████████████████▎           | 573kB 4.5MB/s eta 0:00:01\r\u001b[K     |████████████████████▋           | 583kB 4.5MB/s eta 0:00:01\r\u001b[K     |█████████████████████           | 593kB 4.5MB/s eta 0:00:01\r\u001b[K     |█████████████████████▍          | 604kB 4.5MB/s eta 0:00:01\r\u001b[K     |█████████████████████▊          | 614kB 4.5MB/s eta 0:00:01\r\u001b[K     |██████████████████████          | 624kB 4.5MB/s eta 0:00:01\r\u001b[K     |██████████████████████▌         | 634kB 4.5MB/s eta 0:00:01\r\u001b[K     |██████████████████████▉         | 645kB 4.5MB/s eta 0:00:01\r\u001b[K     |███████████████████████▏        | 655kB 4.5MB/s eta 0:00:01\r\u001b[K     |███████████████████████▌        | 665kB 4.5MB/s eta 0:00:01\r\u001b[K     |████████████████████████        | 675kB 4.5MB/s eta 0:00:01\r\u001b[K     |████████████████████████▎       | 686kB 4.5MB/s eta 0:00:01\r\u001b[K     |████████████████████████▋       | 696kB 4.5MB/s eta 0:00:01\r\u001b[K     |█████████████████████████       | 706kB 4.5MB/s eta 0:00:01\r\u001b[K     |█████████████████████████▍      | 716kB 4.5MB/s eta 0:00:01\r\u001b[K     |█████████████████████████▊      | 727kB 4.5MB/s eta 0:00:01\r\u001b[K     |██████████████████████████      | 737kB 4.5MB/s eta 0:00:01\r\u001b[K     |██████████████████████████▍     | 747kB 4.5MB/s eta 0:00:01\r\u001b[K     |██████████████████████████▉     | 757kB 4.5MB/s eta 0:00:01\r\u001b[K     |███████████████████████████▏    | 768kB 4.5MB/s eta 0:00:01\r\u001b[K     |███████████████████████████▌    | 778kB 4.5MB/s eta 0:00:01\r\u001b[K     |████████████████████████████    | 788kB 4.5MB/s eta 0:00:01\r\u001b[K     |████████████████████████████▎   | 798kB 4.5MB/s eta 0:00:01\r\u001b[K     |████████████████████████████▋   | 808kB 4.5MB/s eta 0:00:01\r\u001b[K     |█████████████████████████████   | 819kB 4.5MB/s eta 0:00:01\r\u001b[K     |█████████████████████████████▍  | 829kB 4.5MB/s eta 0:00:01\r\u001b[K     |█████████████████████████████▊  | 839kB 4.5MB/s eta 0:00:01\r\u001b[K     |██████████████████████████████  | 849kB 4.5MB/s eta 0:00:01\r\u001b[K     |██████████████████████████████▍ | 860kB 4.5MB/s eta 0:00:01\r\u001b[K     |██████████████████████████████▉ | 870kB 4.5MB/s eta 0:00:01\r\u001b[K     |███████████████████████████████▏| 880kB 4.5MB/s eta 0:00:01\r\u001b[K     |███████████████████████████████▌| 890kB 4.5MB/s eta 0:00:01\r\u001b[K     |███████████████████████████████▉| 901kB 4.5MB/s eta 0:00:01\r\u001b[K     |████████████████████████████████| 911kB 4.5MB/s \n",
            "\u001b[?25hRequirement already satisfied: urllib3 in /usr/local/lib/python3.6/dist-packages (from selenium) (1.24.3)\n",
            "Installing collected packages: selenium\n",
            "Successfully installed selenium-3.141.0\n",
            "Get:1 https://cloud.r-project.org/bin/linux/ubuntu bionic-cran40/ InRelease [3,626 B]\n",
            "Ign:2 https://developer.download.nvidia.com/compute/cuda/repos/ubuntu1804/x86_64  InRelease\n",
            "Ign:3 https://developer.download.nvidia.com/compute/machine-learning/repos/ubuntu1804/x86_64  InRelease\n",
            "Get:4 https://developer.download.nvidia.com/compute/cuda/repos/ubuntu1804/x86_64  Release [697 B]\n",
            "Hit:5 https://developer.download.nvidia.com/compute/machine-learning/repos/ubuntu1804/x86_64  Release\n",
            "Get:6 https://developer.download.nvidia.com/compute/cuda/repos/ubuntu1804/x86_64  Release.gpg [836 B]\n",
            "Get:7 http://ppa.launchpad.net/c2d4u.team/c2d4u4.0+/ubuntu bionic InRelease [15.9 kB]\n",
            "Get:8 http://security.ubuntu.com/ubuntu bionic-security InRelease [88.7 kB]\n",
            "Hit:9 http://archive.ubuntu.com/ubuntu bionic InRelease\n",
            "Get:11 http://archive.ubuntu.com/ubuntu bionic-updates InRelease [88.7 kB]\n",
            "Ign:12 https://developer.download.nvidia.com/compute/cuda/repos/ubuntu1804/x86_64  Packages\n",
            "Get:12 https://developer.download.nvidia.com/compute/cuda/repos/ubuntu1804/x86_64  Packages [334 kB]\n",
            "Hit:13 http://ppa.launchpad.net/graphics-drivers/ppa/ubuntu bionic InRelease\n",
            "Get:14 http://archive.ubuntu.com/ubuntu bionic-backports InRelease [74.6 kB]\n",
            "Get:15 http://ppa.launchpad.net/c2d4u.team/c2d4u4.0+/ubuntu bionic/main Sources [1,675 kB]\n",
            "Get:16 http://security.ubuntu.com/ubuntu bionic-security/universe amd64 Packages [1,341 kB]\n",
            "Get:17 http://archive.ubuntu.com/ubuntu bionic-updates/universe amd64 Packages [2,104 kB]\n",
            "Get:18 http://security.ubuntu.com/ubuntu bionic-security/main amd64 Packages [1,693 kB]\n",
            "Get:19 http://archive.ubuntu.com/ubuntu bionic-updates/main amd64 Packages [2,110 kB]\n",
            "Get:20 http://ppa.launchpad.net/c2d4u.team/c2d4u4.0+/ubuntu bionic/main amd64 Packages [857 kB]\n",
            "Fetched 10.4 MB in 3s (3,124 kB/s)\n",
            "Reading package lists...\n",
            "Reading package lists...\n",
            "Building dependency tree...\n",
            "Reading state information...\n",
            "The following additional packages will be installed:\n",
            "  chromium-browser chromium-browser-l10n chromium-codecs-ffmpeg-extra\n",
            "Suggested packages:\n",
            "  webaccounts-chromium-extension unity-chromium-extension adobe-flashplugin\n",
            "The following NEW packages will be installed:\n",
            "  chromium-browser chromium-browser-l10n chromium-chromedriver\n",
            "  chromium-codecs-ffmpeg-extra\n",
            "0 upgraded, 4 newly installed, 0 to remove and 11 not upgraded.\n",
            "Need to get 79.2 MB of archives.\n",
            "After this operation, 268 MB of additional disk space will be used.\n",
            "Get:1 http://archive.ubuntu.com/ubuntu bionic-updates/universe amd64 chromium-codecs-ffmpeg-extra amd64 85.0.4183.121-0ubuntu0.18.04.1 [1,117 kB]\n",
            "Get:2 http://archive.ubuntu.com/ubuntu bionic-updates/universe amd64 chromium-browser amd64 85.0.4183.121-0ubuntu0.18.04.1 [70.3 MB]\n",
            "Get:3 http://archive.ubuntu.com/ubuntu bionic-updates/universe amd64 chromium-browser-l10n all 85.0.4183.121-0ubuntu0.18.04.1 [3,432 kB]\n",
            "Get:4 http://archive.ubuntu.com/ubuntu bionic-updates/universe amd64 chromium-chromedriver amd64 85.0.4183.121-0ubuntu0.18.04.1 [4,415 kB]\n",
            "Fetched 79.2 MB in 5s (15.3 MB/s)\n",
            "Selecting previously unselected package chromium-codecs-ffmpeg-extra.\n",
            "(Reading database ... 144617 files and directories currently installed.)\n",
            "Preparing to unpack .../chromium-codecs-ffmpeg-extra_85.0.4183.121-0ubuntu0.18.04.1_amd64.deb ...\n",
            "Unpacking chromium-codecs-ffmpeg-extra (85.0.4183.121-0ubuntu0.18.04.1) ...\n",
            "Selecting previously unselected package chromium-browser.\n",
            "Preparing to unpack .../chromium-browser_85.0.4183.121-0ubuntu0.18.04.1_amd64.deb ...\n",
            "Unpacking chromium-browser (85.0.4183.121-0ubuntu0.18.04.1) ...\n",
            "Selecting previously unselected package chromium-browser-l10n.\n",
            "Preparing to unpack .../chromium-browser-l10n_85.0.4183.121-0ubuntu0.18.04.1_all.deb ...\n",
            "Unpacking chromium-browser-l10n (85.0.4183.121-0ubuntu0.18.04.1) ...\n",
            "Selecting previously unselected package chromium-chromedriver.\n",
            "Preparing to unpack .../chromium-chromedriver_85.0.4183.121-0ubuntu0.18.04.1_amd64.deb ...\n",
            "Unpacking chromium-chromedriver (85.0.4183.121-0ubuntu0.18.04.1) ...\n",
            "Setting up chromium-codecs-ffmpeg-extra (85.0.4183.121-0ubuntu0.18.04.1) ...\n",
            "Setting up chromium-browser (85.0.4183.121-0ubuntu0.18.04.1) ...\n",
            "update-alternatives: using /usr/bin/chromium-browser to provide /usr/bin/x-www-browser (x-www-browser) in auto mode\n",
            "update-alternatives: using /usr/bin/chromium-browser to provide /usr/bin/gnome-www-browser (gnome-www-browser) in auto mode\n",
            "Setting up chromium-chromedriver (85.0.4183.121-0ubuntu0.18.04.1) ...\n",
            "Setting up chromium-browser-l10n (85.0.4183.121-0ubuntu0.18.04.1) ...\n",
            "Processing triggers for hicolor-icon-theme (0.17-2) ...\n",
            "Processing triggers for mime-support (3.60ubuntu1) ...\n",
            "Processing triggers for man-db (2.8.3-2ubuntu0.1) ...\n"
          ],
          "name": "stdout"
        }
      ]
    },
    {
      "cell_type": "code",
      "metadata": {
        "id": "8kNo2Pm2aI-y"
      },
      "source": [
        "import sys\n",
        "import pandas as pd\n",
        "sys.path.insert(0, '/user/lib/chromium-browser/chromedriver')\n",
        "from selenium import webdriver\n",
        "chrome_options = webdriver.ChromeOptions()\n",
        "chrome_options.add_argument('--headless')\n",
        "chrome_options.add_argument('--no-sandbox')\n",
        "chrome_options.add_argument('--disable-dev-shm-usage')\n",
        "\n",
        "driver = webdriver.Chrome('chromedriver', options=chrome_options)"
      ],
      "execution_count": null,
      "outputs": []
    },
    {
      "cell_type": "code",
      "metadata": {
        "id": "fkxpEtb2aLyT",
        "outputId": "b2981764-969f-4b6a-c7d5-57d3f9db8cd2",
        "colab": {
          "base_uri": "https://localhost:8080/",
          "height": 238
        }
      },
      "source": [
        "driver.get(\"https://www.beeradvocate.com/beer/top-rated/\")\n",
        "table_rows = driver.find_elements_by_xpath('/html/body/div[2]/div/div[2]/div[2]/div[2]/div/div/div[3]/div/div/div[2]/table/tbody/tr/td/a')\n",
        "links = [row.get_attribute('href') for row in table_rows]\n",
        "\n",
        "reviewsdf = pd.DataFrame(columns = ['product_name','review','user_rating'])\n",
        "for link in links:\n",
        "  driver.get(link)\n",
        "  title = driver.find_element_by_xpath('//*[@id=\"content\"]/div/div/div[3]/div/div/div[1]/h1').text.replace('\\n',' - ')\n",
        "  print(title)\n",
        "  #ratings_elems = driver.find_elements_by_xpath('/html/body/div[2]/div/div[2]/div[2]/div[2]/div/div/div[3]/div/div/div[2]/div[8]/div/div[1]/div[2]/span[2]')\n",
        "  ratings_elems = driver.find_elements_by_xpath('//span[@class=\"BAscore_norm\"]')\n",
        "  ratings = []\n",
        "  for rating in ratings_elems:\n",
        "    ratings.append(float(rating.text))\n",
        "  #reviews_elems = driver.find_elements_by_xpath('/html/body/div[2]/div/div[2]/div[2]/div[2]/div/div/div[3]/div/div/div[2]/div[8]/div/div/div[2]')\n",
        "  reviews_elems = driver.find_elements_by_xpath('//*[@id=\"rating_fullview_content_2\"]')\n",
        "  reviews = []\n",
        "  for review in reviews_elems:\n",
        "    lines_list = review.text.split('\\n')\n",
        "    lines_list = lines_list[5:]\n",
        "    reviews.append((' '.join(lines_list)))\n",
        "  for review, rating in list(zip(reviews, ratings)):\n",
        "    reviewsdf.loc[len(reviewsdf)] = [title, review, rating]"
      ],
      "execution_count": null,
      "outputs": [
        {
          "output_type": "stream",
          "text": [
            "Kentucky Brunch Brand Stout - Toppling Goliath Brewing Company\n",
            "Marshmallow Handjee - 3 Floyds Brewing Co.\n",
            "Barrel-Aged Abraxas - Perennial Artisan Ales\n",
            "Hunahpu's Imperial Stout - Double Barrel Aged - Cigar City Brewing\n",
            "Heady Topper - The Alchemist\n",
            "Pliny The Younger - Russian River Brewing Company\n",
            "King Julius - Tree House Brewing Company\n",
            "Mornin' Delight - Toppling Goliath Brewing Company\n",
            "Bourbon County Brand Coffee Stout - Goose Island Beer Co.\n",
            "King JJJuliusss - Tree House Brewing Company\n",
            "Very Hazy - Tree House Brewing Company\n",
            "SR-71 - Toppling Goliath Brewing Company\n",
            "Fundamental Observation - Bottle Logic Brewing\n"
          ],
          "name": "stdout"
        }
      ]
    },
    {
      "cell_type": "code",
      "metadata": {
        "id": "lGhdqa5waPZh"
      },
      "source": [
        "reviewsdf.to_csv('beer_data.csv', index = False)"
      ],
      "execution_count": null,
      "outputs": []
    },
    {
      "cell_type": "code",
      "metadata": {
        "id": "T_kdhF3dRa3-"
      },
      "source": [
        "import pandas as pd\n",
        "\n",
        "beer_data = pd.read_csv(r\"training_data (1).csv\")\n",
        "display(beer_data)"
      ],
      "execution_count": null,
      "outputs": []
    },
    {
      "cell_type": "markdown",
      "metadata": {
        "id": "EdmO7kDpbR5z"
      },
      "source": [
        "## Task B\n",
        "\n",
        "Here we assume that a specific beer customer has specified three attributes that they are interested in: hoppy, fruity, and sweet. To collect all instances of hoppy and fruity, we abbreviate the attributes to 'hop' and 'fruit'. \n",
        "\n",
        "We decided on these attributes after conducting a word frequency analysis on the reviews, shown below. Each of the three attributes occured at least 800 times in the collective set of reviews. "
      ]
    },
    {
      "cell_type": "code",
      "metadata": {
        "id": "Ol4zlN4zcJJb"
      },
      "source": [
        "\n",
        "import nltk\n",
        "nltk.download(\"popular\")\n",
        "from nltk.tokenize import word_tokenize\n",
        "import string\n",
        "\n",
        "top_N = 400\n",
        "\n",
        "a = beer_data['review'].str.cat(sep=' ')\n",
        "words = nltk.tokenize.word_tokenize(a)\n",
        "word_dist = nltk.FreqDist(words)\n",
        "\n",
        "rslt = pd.DataFrame(word_dist.most_common(top_N),\n",
        "                    columns=['Word', 'Frequency'])"
      ],
      "execution_count": null,
      "outputs": []
    },
    {
      "cell_type": "code",
      "metadata": {
        "id": "3LtCCab_c5md"
      },
      "source": [
        "from nltk.corpus import stopwords\n",
        "stop = stopwords.words('english')\n",
        "\n",
        "rslt['Word'].apply(lambda x: ' '.join([word for word in x.split() if word not in (stop)]))\n",
        "rslt['Word'].str.replace('[{}]'.format(string.punctuation), '')\n",
        "display(rslt[0:50])\n"
      ],
      "execution_count": null,
      "outputs": []
    },
    {
      "cell_type": "markdown",
      "metadata": {
        "id": "ELM4KDzyduXH"
      },
      "source": [
        "## Task C\n",
        "\n",
        "Next we perform cosine similarity with the attributes specified by 'the customer': hop, fruit, and sweet. This gives us a basic measure of how similar each review is to the desired attributes. "
      ]
    },
    {
      "cell_type": "code",
      "metadata": {
        "id": "WsUoBSEdPDPe"
      },
      "source": [
        "from sklearn.metrics.pairwise import cosine_similarity\n",
        "from sklearn.feature_extraction.text import TfidfVectorizer\n",
        "\n",
        "def calculate_similarity(attributes_doc, corpus_list, product_list):\n",
        "  corpus_list.append(attributes_doc)\n",
        "\n",
        "  # Create the Document Term Matrix\n",
        "  tfidf_vectorizer = TfidfVectorizer(stop_words='english')\n",
        "  #tfidf_vectorizer = TfidfVectorizer()\n",
        "  sparse_matrix = tfidf_vectorizer.fit_transform(corpus_list) # no error up to this point\n",
        "\n",
        "  doc_term_matrix = sparse_matrix.todense()\n",
        "  df = pd.DataFrame(doc_term_matrix, \n",
        "                    columns=tfidf_vectorizer.get_feature_names()) # no error up to this point\n",
        "\n",
        "  for i in list(df.columns):\n",
        "    if df.loc[len(corpus_list)-1,i] == 0:\n",
        "      df = df.drop(i, axis=1) \n",
        "\n",
        "  cosine_result = cosine_similarity(df, df)\n",
        "  cosine_values_list = []\n",
        "  for i in range(len(cosine_result)):\n",
        "    b = cosine_result[i][-1]\n",
        "    cosine_values_list.append(b)\n",
        "  \n",
        "  cosine_values_list = cosine_values_list[:-1]\n",
        "  similarity_series = pd.Series(cosine_values_list)\n",
        "\n",
        "  corpus_list.remove(attributes_doc)\n",
        "  review_series = pd.Series(corpus_list)\n",
        "  product_series = pd.Series(product_list)\n",
        "\n",
        "  result_df = pd.concat([product_series, review_series, similarity_series],axis=1)\n",
        "\n",
        "  result_df.columns = ['product_name', 'review', 'similarity']\n",
        "\n",
        "  return result_df"
      ],
      "execution_count": null,
      "outputs": []
    },
    {
      "cell_type": "code",
      "metadata": {
        "id": "qXpIZ8ESPKLL"
      },
      "source": [
        "sim = calculate_similarity('hop fruit sweet', list(beer_data['review'].values), list(beer_data['product_name'].values))"
      ],
      "execution_count": null,
      "outputs": []
    },
    {
      "cell_type": "code",
      "metadata": {
        "id": "ts3Al4z38DS5"
      },
      "source": [
        "beer_data['similarity'] = sim.similarity"
      ],
      "execution_count": null,
      "outputs": []
    },
    {
      "cell_type": "code",
      "metadata": {
        "id": "wDmAl7dULDc9"
      },
      "source": [
        "beer_data.to_csv('beer_data_sim.csv', index = False)"
      ],
      "execution_count": null,
      "outputs": []
    },
    {
      "cell_type": "markdown",
      "metadata": {
        "id": "cv17JlGnev9n"
      },
      "source": [
        "## Task D\n",
        "Now, we conduct feature level sentiment analysis for each of the three features. Our regex expression below pulls 3 words before and after each instance of an attribute being mentioned, and sentiment analysis is then conducted to determine if these mentions are positive or negative. "
      ]
    },
    {
      "cell_type": "code",
      "metadata": {
        "id": "GwZ2ufF7SUSL"
      },
      "source": [
        "import re\n",
        "\n",
        "reviews = beer_data.review\n",
        "\n",
        "hop = []\n",
        "for i in reviews:\n",
        "  chopped = re.findall('[\\S+.!?]*\\s*[\\S+.!?]*\\s*[\\S+.!?]*\\s*hop[a-z]*[\\S+.!?]*\\s*[\\S+.!?]*\\s*[\\S+.!?]*\\s*[\\S+.!?]*\\s*', i)\n",
        "  chopped = ' '.join(chopped)\n",
        "  if chopped == '':\n",
        "    hop.append(None)\n",
        "  else: \n",
        "    hop.append(chopped)\n",
        "  \n",
        "beer_data['hop'] = hop\n",
        "\n",
        "fruit = []\n",
        "for i in reviews:\n",
        "  chopped = re.findall('[\\S+.!?]*\\s*[\\S+.!?]*\\s*[\\S+.!?]*\\s*fruit[a-z]*[\\S+.!?]*\\s*[\\S+.!?]*\\s*[\\S+.!?]*\\s*[\\S+.!?]*\\s*', i)\n",
        "  chopped = ' '.join(chopped)\n",
        "  if chopped == '':\n",
        "    fruit.append(None)\n",
        "  else: \n",
        "    fruit.append(chopped)\n",
        "  \n",
        "beer_data['fruit'] = fruit\n",
        "\n",
        "sweet = []\n",
        "for i in reviews:\n",
        "  chopped = re.findall('[\\S+.!?]*\\s*[\\S+.!?]*\\s*[\\S+.!?]*\\s*sweet[a-z]*[\\S+.!?]*\\s*[\\S+.!?]*\\s*[\\S+.!?]*\\s*[\\S+.!?]*\\s*', i)\n",
        "  chopped = ' '.join(chopped)\n",
        "  if chopped == '':\n",
        "    sweet.append(None)\n",
        "  else: \n",
        "    sweet.append(chopped)\n",
        "  \n",
        "beer_data['sweet'] = sweet\n",
        "\n"
      ],
      "execution_count": null,
      "outputs": []
    },
    {
      "cell_type": "code",
      "metadata": {
        "id": "7jBxMHox-skZ"
      },
      "source": [
        "!pip install vaderSentiment\n",
        "\n",
        "from vaderSentiment.vaderSentiment import SentimentIntensityAnalyzer \n",
        "  \n",
        "# function to print sentiments \n",
        "# of the sentence. \n",
        "def sentiment_scores(sentence): \n",
        "  \n",
        "    sid_obj = SentimentIntensityAnalyzer() \n",
        "    sentiment_dict = sid_obj.polarity_scores(sentence) \n",
        "    return sentiment_dict['compound']"
      ],
      "execution_count": null,
      "outputs": []
    },
    {
      "cell_type": "code",
      "metadata": {
        "id": "ccRszuWY_3Ah"
      },
      "source": [
        "hop_text = beer_data.hop\n",
        "fruit_text = beer_data.fruit\n",
        "sweet_text = beer_data.sweet\n",
        "\n",
        "hop_sent= []\n",
        "for i in hop_text:\n",
        "  if i == None:\n",
        "    hop_sent.append(0)\n",
        "  else:\n",
        "    hop_sent.append(sentiment_scores(i))\n",
        "\n",
        "beer_data['hop_sent'] = hop_sent\n",
        "\n",
        "fruit_sent= []\n",
        "for i in fruit_text:\n",
        "  if i == None:\n",
        "    fruit_sent.append(0)\n",
        "  else:\n",
        "    fruit_sent.append(sentiment_scores(i))\n",
        "\n",
        "beer_data['fruit_sent'] = fruit_sent\n",
        "\n",
        "sweet_sent= []\n",
        "for i in sweet_text:\n",
        "  if i == None:\n",
        "    sweet_sent.append(0)\n",
        "  else:\n",
        "    sweet_sent.append(sentiment_scores(i))\n",
        "\n",
        "beer_data['sweet_sent'] = sweet_sent\n",
        "\n",
        "beer_data['average_sent'] = (beer_data.hop_sent + beer_data.fruit_sent + beer_data.sweet_sent)/3\n",
        "beer_data['elevation_score'] = beer_data.similarity + beer_data.average_sent\n",
        "\n"
      ],
      "execution_count": null,
      "outputs": []
    },
    {
      "cell_type": "markdown",
      "metadata": {
        "id": "DzYYF6OgfdGx"
      },
      "source": [
        "After calculating the average sentiment for each review given its sentiments surrounding the three attributes, we create a new metric, 'elvation score', to simply sum the cosine similarity and average sentiments for each review (Note that while we are doing this for each review, what we are really interested in is the average elevation score for each beer). "
      ]
    },
    {
      "cell_type": "markdown",
      "metadata": {
        "id": "29u-pXPDOee6"
      },
      "source": [
        "## Task E\n",
        "Below, we look at the average elevation score (average similarity score + average feature sentiment score) and recommend the beers with the top 3 elevation scores for the attributes hop, fruit, and sweet. The recommended beers are output below:\n",
        "\n",
        "Double Orange Starfish - Aslin Beer Company\n",
        "\n",
        "DFPF - J. Wakefield Brewing\n",
        "\n",
        "Double Dry Hopped All Citra Everything - Other Half Brewing Company\n"
      ]
    },
    {
      "cell_type": "code",
      "metadata": {
        "id": "u7ifFHYUOqEI",
        "outputId": "f58a60ec-eb8f-4f77-d0a5-5787bef4fa6b",
        "colab": {
          "base_uri": "https://localhost:8080/",
          "height": 71
        }
      },
      "source": [
        "for i in range(3):\n",
        "  display(beer_data.groupby(['product_name']).mean().sort_values(by = 'elevation_score', ascending = False).index[i])"
      ],
      "execution_count": null,
      "outputs": [
        {
          "output_type": "display_data",
          "data": {
            "application/vnd.google.colaboratory.intrinsic+json": {
              "type": "string"
            },
            "text/plain": [
              "'Double Orange Starfish - Aslin Beer Company'"
            ]
          },
          "metadata": {
            "tags": []
          }
        },
        {
          "output_type": "display_data",
          "data": {
            "application/vnd.google.colaboratory.intrinsic+json": {
              "type": "string"
            },
            "text/plain": [
              "'DFPF - J. Wakefield Brewing'"
            ]
          },
          "metadata": {
            "tags": []
          }
        },
        {
          "output_type": "display_data",
          "data": {
            "application/vnd.google.colaboratory.intrinsic+json": {
              "type": "string"
            },
            "text/plain": [
              "'Double Dry Hopped All Citra Everything - Other Half Brewing Company'"
            ]
          },
          "metadata": {
            "tags": []
          }
        }
      ]
    },
    {
      "cell_type": "markdown",
      "metadata": {
        "id": "2CKNnMmGQpCt"
      },
      "source": [
        "## Task F\n",
        "Now we evaluate how the recommendation would change if we use word vectors to create a similarity metric as opposed to cosine similarity. We use the spacy package and the en_core_web_md word vector set to get this word vector similarity score for each beer. \n",
        "\n"
      ]
    },
    {
      "cell_type": "code",
      "metadata": {
        "id": "YRxfGvZ9xyAk",
        "outputId": "adeb4a81-a0a6-4523-ff2e-8955181b384e",
        "colab": {
          "base_uri": "https://localhost:8080/",
          "height": 600
        }
      },
      "source": [
        "!python -m spacy download en_core_web_md"
      ],
      "execution_count": null,
      "outputs": [
        {
          "output_type": "stream",
          "text": [
            "Collecting en_core_web_md==2.2.5\n",
            "\u001b[?25l  Downloading https://github.com/explosion/spacy-models/releases/download/en_core_web_md-2.2.5/en_core_web_md-2.2.5.tar.gz (96.4MB)\n",
            "\u001b[K     |████████████████████████████████| 96.4MB 2.3MB/s \n",
            "\u001b[?25hRequirement already satisfied: spacy>=2.2.2 in /usr/local/lib/python3.6/dist-packages (from en_core_web_md==2.2.5) (2.2.4)\n",
            "Requirement already satisfied: tqdm<5.0.0,>=4.38.0 in /usr/local/lib/python3.6/dist-packages (from spacy>=2.2.2->en_core_web_md==2.2.5) (4.41.1)\n",
            "Requirement already satisfied: cymem<2.1.0,>=2.0.2 in /usr/local/lib/python3.6/dist-packages (from spacy>=2.2.2->en_core_web_md==2.2.5) (2.0.3)\n",
            "Requirement already satisfied: numpy>=1.15.0 in /usr/local/lib/python3.6/dist-packages (from spacy>=2.2.2->en_core_web_md==2.2.5) (1.18.5)\n",
            "Requirement already satisfied: blis<0.5.0,>=0.4.0 in /usr/local/lib/python3.6/dist-packages (from spacy>=2.2.2->en_core_web_md==2.2.5) (0.4.1)\n",
            "Requirement already satisfied: wasabi<1.1.0,>=0.4.0 in /usr/local/lib/python3.6/dist-packages (from spacy>=2.2.2->en_core_web_md==2.2.5) (0.8.0)\n",
            "Requirement already satisfied: requests<3.0.0,>=2.13.0 in /usr/local/lib/python3.6/dist-packages (from spacy>=2.2.2->en_core_web_md==2.2.5) (2.23.0)\n",
            "Requirement already satisfied: preshed<3.1.0,>=3.0.2 in /usr/local/lib/python3.6/dist-packages (from spacy>=2.2.2->en_core_web_md==2.2.5) (3.0.2)\n",
            "Requirement already satisfied: plac<1.2.0,>=0.9.6 in /usr/local/lib/python3.6/dist-packages (from spacy>=2.2.2->en_core_web_md==2.2.5) (1.1.3)\n",
            "Requirement already satisfied: murmurhash<1.1.0,>=0.28.0 in /usr/local/lib/python3.6/dist-packages (from spacy>=2.2.2->en_core_web_md==2.2.5) (1.0.2)\n",
            "Requirement already satisfied: srsly<1.1.0,>=1.0.2 in /usr/local/lib/python3.6/dist-packages (from spacy>=2.2.2->en_core_web_md==2.2.5) (1.0.2)\n",
            "Requirement already satisfied: thinc==7.4.0 in /usr/local/lib/python3.6/dist-packages (from spacy>=2.2.2->en_core_web_md==2.2.5) (7.4.0)\n",
            "Requirement already satisfied: catalogue<1.1.0,>=0.0.7 in /usr/local/lib/python3.6/dist-packages (from spacy>=2.2.2->en_core_web_md==2.2.5) (1.0.0)\n",
            "Requirement already satisfied: setuptools in /usr/local/lib/python3.6/dist-packages (from spacy>=2.2.2->en_core_web_md==2.2.5) (50.3.0)\n",
            "Requirement already satisfied: chardet<4,>=3.0.2 in /usr/local/lib/python3.6/dist-packages (from requests<3.0.0,>=2.13.0->spacy>=2.2.2->en_core_web_md==2.2.5) (3.0.4)\n",
            "Requirement already satisfied: urllib3!=1.25.0,!=1.25.1,<1.26,>=1.21.1 in /usr/local/lib/python3.6/dist-packages (from requests<3.0.0,>=2.13.0->spacy>=2.2.2->en_core_web_md==2.2.5) (1.24.3)\n",
            "Requirement already satisfied: idna<3,>=2.5 in /usr/local/lib/python3.6/dist-packages (from requests<3.0.0,>=2.13.0->spacy>=2.2.2->en_core_web_md==2.2.5) (2.10)\n",
            "Requirement already satisfied: certifi>=2017.4.17 in /usr/local/lib/python3.6/dist-packages (from requests<3.0.0,>=2.13.0->spacy>=2.2.2->en_core_web_md==2.2.5) (2020.6.20)\n",
            "Requirement already satisfied: importlib-metadata>=0.20; python_version < \"3.8\" in /usr/local/lib/python3.6/dist-packages (from catalogue<1.1.0,>=0.0.7->spacy>=2.2.2->en_core_web_md==2.2.5) (2.0.0)\n",
            "Requirement already satisfied: zipp>=0.5 in /usr/local/lib/python3.6/dist-packages (from importlib-metadata>=0.20; python_version < \"3.8\"->catalogue<1.1.0,>=0.0.7->spacy>=2.2.2->en_core_web_md==2.2.5) (3.2.0)\n",
            "Building wheels for collected packages: en-core-web-md\n",
            "  Building wheel for en-core-web-md (setup.py) ... \u001b[?25l\u001b[?25hdone\n",
            "  Created wheel for en-core-web-md: filename=en_core_web_md-2.2.5-cp36-none-any.whl size=98051305 sha256=241eecc0d72688636a6bb2c0ac44da06f12b98a1aa7733af7396aa1ff64e00ad\n",
            "  Stored in directory: /tmp/pip-ephem-wheel-cache-o92dwdow/wheels/df/94/ad/f5cf59224cea6b5686ac4fd1ad19c8a07bc026e13c36502d81\n",
            "Successfully built en-core-web-md\n",
            "Installing collected packages: en-core-web-md\n",
            "Successfully installed en-core-web-md-2.2.5\n",
            "\u001b[38;5;2m✔ Download and installation successful\u001b[0m\n",
            "You can now load the model via spacy.load('en_core_web_md')\n"
          ],
          "name": "stdout"
        }
      ]
    },
    {
      "cell_type": "code",
      "metadata": {
        "id": "leGVNdMCtLBu"
      },
      "source": [
        "import csv\n",
        "import pandas as pd\n",
        "import nltk\n",
        "import numpy as np\n",
        "from nltk.tokenize import PunktSentenceTokenizer, RegexpTokenizer\n",
        "from nltk.corpus import stopwords\n",
        "from nltk.stem import WordNetLemmatizer\n",
        "from tempfile import NamedTemporaryFile\n",
        "import shutil\n",
        "import warnings\n",
        "import spacy\n",
        "import en_core_web_md\n",
        "# nlp = spacy.load('en')"
      ],
      "execution_count": null,
      "outputs": []
    },
    {
      "cell_type": "code",
      "metadata": {
        "id": "GxpxPdcZzQcx"
      },
      "source": [
        "nlp = en_core_web_md.load()"
      ],
      "execution_count": null,
      "outputs": []
    },
    {
      "cell_type": "code",
      "metadata": {
        "id": "g3nAdWBlmXMm"
      },
      "source": [
        "\n",
        "warnings.filterwarnings(\"ignore\", category = DeprecationWarning)\n",
        "\n",
        "attributes = 'hop fruit sweet'\n",
        "\n",
        "reviews_df = beer_data.review\n",
        "reviews_df = reviews_df.to_frame()\n",
        "\n",
        "reviews_df['similarity'] = -1\n",
        "\n",
        "for index, row in reviews_df.iterrows():\n",
        "  reviews_df.loc[index,'similarity'] = nlp(row['review']).similarity(nlp(attributes))\n"
      ],
      "execution_count": null,
      "outputs": []
    },
    {
      "cell_type": "markdown",
      "metadata": {
        "id": "c4RRUrxPg_px"
      },
      "source": [
        "We again want to make a metric based on this new similarity score as well as the sentiments for each attribute. Thus, we create another elevation score, this time with the word vector similarity instead of cosine similarity (vector_elevation = vector_similarity + average_sent)."
      ]
    },
    {
      "cell_type": "code",
      "metadata": {
        "id": "4SOf5oB-n9tz",
        "outputId": "1d572876-5718-45af-913d-018f2ad49879",
        "colab": {
          "base_uri": "https://localhost:8080/",
          "height": 71
        }
      },
      "source": [
        "beer_data['vector_similarity'] = reviews_df['similarity']\n",
        "beer_data['vector_elevation'] = beer_data.vector_similarity + beer_data.average_sent\n",
        "\n",
        "for i in range(3):\n",
        "  display(beer_data.groupby(['product_name']).mean().sort_values(by = 'vector_elevation', ascending = False).index[i])"
      ],
      "execution_count": null,
      "outputs": [
        {
          "output_type": "display_data",
          "data": {
            "application/vnd.google.colaboratory.intrinsic+json": {
              "type": "string"
            },
            "text/plain": [
              "'Emerald Grouper - Pipeworks Brewing Company'"
            ]
          },
          "metadata": {
            "tags": []
          }
        },
        {
          "output_type": "display_data",
          "data": {
            "application/vnd.google.colaboratory.intrinsic+json": {
              "type": "string"
            },
            "text/plain": [
              "'Rodenbach Caractère Rouge - Brouwerij Rodenbach N.V.'"
            ]
          },
          "metadata": {
            "tags": []
          }
        },
        {
          "output_type": "display_data",
          "data": {
            "application/vnd.google.colaboratory.intrinsic+json": {
              "type": "string"
            },
            "text/plain": [
              "'Double Dry Hopped All Citra Everything - Other Half Brewing Company'"
            ]
          },
          "metadata": {
            "tags": []
          }
        }
      ]
    },
    {
      "cell_type": "markdown",
      "metadata": {
        "id": "7YaNn-zhga63"
      },
      "source": [
        "Interestingly, the vector similarity approach still recommends the Double Dry Hopped All Citra Everything, but also recommends two different beers. \n",
        "\n",
        "To compare these recommendations, we can look at one more metric: what % of each beer's reviews mention an attribute specified by the customer (i.e. any of the attributes is mentioned one or more times). "
      ]
    },
    {
      "cell_type": "code",
      "metadata": {
        "id": "HruXZ5SRUHCf"
      },
      "source": [
        "def create_has(attribute1, attribute2, attribute3):\n",
        "  beer_data['has ' + attribute1] = 0\n",
        "  beer_data['has ' + attribute2] = 0\n",
        "  beer_data['has ' + attribute3] = 0\n",
        "  reviews = list(beer_data['review'].values)\n",
        "\n",
        "  for review in reviews:\n",
        "    if attribute1 in review:\n",
        "      beer_data.loc[reviews.index(review), 'has ' + attribute1] = 1\n",
        "    else:\n",
        "      beer_data.loc[reviews.index(review), 'has ' + attribute1] = 0\n",
        "    if attribute2 in review:\n",
        "      beer_data.loc[reviews.index(review), 'has ' + attribute2] = 1\n",
        "    else:\n",
        "      beer_data.loc[reviews.index(review), 'has ' + attribute2] = 0\n",
        "    if attribute3 in review:\n",
        "      beer_data.loc[reviews.index(review), 'has ' + attribute3] = 1\n",
        "    else:\n",
        "      beer_data.loc[reviews.index(review), 'has ' + attribute3] = 0\n",
        "  return beer_data"
      ],
      "execution_count": null,
      "outputs": []
    },
    {
      "cell_type": "code",
      "metadata": {
        "id": "WYkdD7ETUK1h"
      },
      "source": [
        "beer_data = create_has('hop', 'fruit', 'sweet')"
      ],
      "execution_count": null,
      "outputs": []
    },
    {
      "cell_type": "code",
      "metadata": {
        "id": "iWR_WjEDWDEV"
      },
      "source": [
        "def f(row):\n",
        "  if row['has hop'] + row['has fruit'] + row['has sweet'] == 0:\n",
        "    val = 0\n",
        "  else:\n",
        "    val = 1\n",
        "  return val\n",
        "\n",
        "beer_data['contains_attribute'] = beer_data.apply(f, axis = 1)"
      ],
      "execution_count": null,
      "outputs": []
    },
    {
      "cell_type": "markdown",
      "metadata": {
        "id": "RxmRhjTBkzY2"
      },
      "source": [
        "Now we can again look at the top 3 beers for cosine similarity and vector similarity, respectively and compare. "
      ]
    },
    {
      "cell_type": "code",
      "metadata": {
        "id": "Nui4Z9aIky-z",
        "outputId": "a9a79948-928f-49a1-ffc8-9a7754db8dbe",
        "colab": {
          "base_uri": "https://localhost:8080/",
          "height": 845
        }
      },
      "source": [
        "display(beer_data.groupby(['product_name']).mean().sort_values(by = 'elevation_score', ascending = False)[:3])\n",
        "\n",
        "display(beer_data.groupby(['product_name']).mean().sort_values(by = 'vector_elevation', ascending = False)[:3])"
      ],
      "execution_count": null,
      "outputs": [
        {
          "output_type": "display_data",
          "data": {
            "text/html": [
              "<div>\n",
              "<style scoped>\n",
              "    .dataframe tbody tr th:only-of-type {\n",
              "        vertical-align: middle;\n",
              "    }\n",
              "\n",
              "    .dataframe tbody tr th {\n",
              "        vertical-align: top;\n",
              "    }\n",
              "\n",
              "    .dataframe thead th {\n",
              "        text-align: right;\n",
              "    }\n",
              "</style>\n",
              "<table border=\"1\" class=\"dataframe\">\n",
              "  <thead>\n",
              "    <tr style=\"text-align: right;\">\n",
              "      <th></th>\n",
              "      <th>user_rating</th>\n",
              "      <th>hop_sent</th>\n",
              "      <th>fruit_sent</th>\n",
              "      <th>sweet_sent</th>\n",
              "      <th>average_sent</th>\n",
              "      <th>similarity</th>\n",
              "      <th>elevation_score</th>\n",
              "      <th>vector_similarity</th>\n",
              "      <th>has hop</th>\n",
              "      <th>has fruit</th>\n",
              "      <th>has sweet</th>\n",
              "      <th>contains_attribute</th>\n",
              "      <th>vector_elevation</th>\n",
              "    </tr>\n",
              "    <tr>\n",
              "      <th>product_name</th>\n",
              "      <th></th>\n",
              "      <th></th>\n",
              "      <th></th>\n",
              "      <th></th>\n",
              "      <th></th>\n",
              "      <th></th>\n",
              "      <th></th>\n",
              "      <th></th>\n",
              "      <th></th>\n",
              "      <th></th>\n",
              "      <th></th>\n",
              "      <th></th>\n",
              "      <th></th>\n",
              "    </tr>\n",
              "  </thead>\n",
              "  <tbody>\n",
              "    <tr>\n",
              "      <th>Double Orange Starfish - Aslin Beer Company</th>\n",
              "      <td>4.4396</td>\n",
              "      <td>0.156608</td>\n",
              "      <td>0.130364</td>\n",
              "      <td>0.228220</td>\n",
              "      <td>0.171731</td>\n",
              "      <td>0.536340</td>\n",
              "      <td>0.708071</td>\n",
              "      <td>0.682707</td>\n",
              "      <td>0.64</td>\n",
              "      <td>0.48</td>\n",
              "      <td>0.52</td>\n",
              "      <td>0.88</td>\n",
              "      <td>0.854438</td>\n",
              "    </tr>\n",
              "    <tr>\n",
              "      <th>DFPF - J. Wakefield Brewing</th>\n",
              "      <td>4.5008</td>\n",
              "      <td>0.000000</td>\n",
              "      <td>0.446280</td>\n",
              "      <td>0.125948</td>\n",
              "      <td>0.190743</td>\n",
              "      <td>0.474826</td>\n",
              "      <td>0.665568</td>\n",
              "      <td>0.687329</td>\n",
              "      <td>0.00</td>\n",
              "      <td>0.92</td>\n",
              "      <td>0.32</td>\n",
              "      <td>0.96</td>\n",
              "      <td>0.878072</td>\n",
              "    </tr>\n",
              "    <tr>\n",
              "      <th>Double Dry Hopped All Citra Everything - Other Half Brewing Company</th>\n",
              "      <td>4.4140</td>\n",
              "      <td>0.185320</td>\n",
              "      <td>0.148924</td>\n",
              "      <td>0.229356</td>\n",
              "      <td>0.187867</td>\n",
              "      <td>0.477559</td>\n",
              "      <td>0.665426</td>\n",
              "      <td>0.704441</td>\n",
              "      <td>0.56</td>\n",
              "      <td>0.60</td>\n",
              "      <td>0.56</td>\n",
              "      <td>0.92</td>\n",
              "      <td>0.892307</td>\n",
              "    </tr>\n",
              "  </tbody>\n",
              "</table>\n",
              "</div>"
            ],
            "text/plain": [
              "                                                    user_rating  ...  vector_elevation\n",
              "product_name                                                     ...                  \n",
              "Double Orange Starfish - Aslin Beer Company              4.4396  ...          0.854438\n",
              "DFPF - J. Wakefield Brewing                              4.5008  ...          0.878072\n",
              "Double Dry Hopped All Citra Everything - Other ...       4.4140  ...          0.892307\n",
              "\n",
              "[3 rows x 13 columns]"
            ]
          },
          "metadata": {
            "tags": []
          }
        },
        {
          "output_type": "display_data",
          "data": {
            "text/html": [
              "<div>\n",
              "<style scoped>\n",
              "    .dataframe tbody tr th:only-of-type {\n",
              "        vertical-align: middle;\n",
              "    }\n",
              "\n",
              "    .dataframe tbody tr th {\n",
              "        vertical-align: top;\n",
              "    }\n",
              "\n",
              "    .dataframe thead th {\n",
              "        text-align: right;\n",
              "    }\n",
              "</style>\n",
              "<table border=\"1\" class=\"dataframe\">\n",
              "  <thead>\n",
              "    <tr style=\"text-align: right;\">\n",
              "      <th></th>\n",
              "      <th>user_rating</th>\n",
              "      <th>hop_sent</th>\n",
              "      <th>fruit_sent</th>\n",
              "      <th>sweet_sent</th>\n",
              "      <th>average_sent</th>\n",
              "      <th>similarity</th>\n",
              "      <th>elevation_score</th>\n",
              "      <th>vector_similarity</th>\n",
              "      <th>has hop</th>\n",
              "      <th>has fruit</th>\n",
              "      <th>has sweet</th>\n",
              "      <th>contains_attribute</th>\n",
              "      <th>vector_elevation</th>\n",
              "    </tr>\n",
              "    <tr>\n",
              "      <th>product_name</th>\n",
              "      <th></th>\n",
              "      <th></th>\n",
              "      <th></th>\n",
              "      <th></th>\n",
              "      <th></th>\n",
              "      <th></th>\n",
              "      <th></th>\n",
              "      <th></th>\n",
              "      <th></th>\n",
              "      <th></th>\n",
              "      <th></th>\n",
              "      <th></th>\n",
              "      <th></th>\n",
              "    </tr>\n",
              "  </thead>\n",
              "  <tbody>\n",
              "    <tr>\n",
              "      <th>Emerald Grouper - Pipeworks Brewing Company</th>\n",
              "      <td>4.2008</td>\n",
              "      <td>0.107988</td>\n",
              "      <td>0.186848</td>\n",
              "      <td>0.424560</td>\n",
              "      <td>0.239799</td>\n",
              "      <td>0.411947</td>\n",
              "      <td>0.651746</td>\n",
              "      <td>0.700011</td>\n",
              "      <td>0.52</td>\n",
              "      <td>0.56</td>\n",
              "      <td>0.68</td>\n",
              "      <td>0.88</td>\n",
              "      <td>0.939810</td>\n",
              "    </tr>\n",
              "    <tr>\n",
              "      <th>Rodenbach Caractère Rouge - Brouwerij Rodenbach N.V.</th>\n",
              "      <td>4.3304</td>\n",
              "      <td>0.033720</td>\n",
              "      <td>0.218068</td>\n",
              "      <td>0.364788</td>\n",
              "      <td>0.205525</td>\n",
              "      <td>0.394969</td>\n",
              "      <td>0.600494</td>\n",
              "      <td>0.700180</td>\n",
              "      <td>0.08</td>\n",
              "      <td>0.72</td>\n",
              "      <td>0.60</td>\n",
              "      <td>0.88</td>\n",
              "      <td>0.905706</td>\n",
              "    </tr>\n",
              "    <tr>\n",
              "      <th>Double Dry Hopped All Citra Everything - Other Half Brewing Company</th>\n",
              "      <td>4.4140</td>\n",
              "      <td>0.185320</td>\n",
              "      <td>0.148924</td>\n",
              "      <td>0.229356</td>\n",
              "      <td>0.187867</td>\n",
              "      <td>0.477559</td>\n",
              "      <td>0.665426</td>\n",
              "      <td>0.704441</td>\n",
              "      <td>0.56</td>\n",
              "      <td>0.60</td>\n",
              "      <td>0.56</td>\n",
              "      <td>0.92</td>\n",
              "      <td>0.892307</td>\n",
              "    </tr>\n",
              "  </tbody>\n",
              "</table>\n",
              "</div>"
            ],
            "text/plain": [
              "                                                    user_rating  ...  vector_elevation\n",
              "product_name                                                     ...                  \n",
              "Emerald Grouper - Pipeworks Brewing Company              4.2008  ...          0.939810\n",
              "Rodenbach Caractère Rouge - Brouwerij Rodenbach...       4.3304  ...          0.905706\n",
              "Double Dry Hopped All Citra Everything - Other ...       4.4140  ...          0.892307\n",
              "\n",
              "[3 rows x 13 columns]"
            ]
          },
          "metadata": {
            "tags": []
          }
        }
      ]
    },
    {
      "cell_type": "markdown",
      "metadata": {
        "id": "_SFtlIWrlO9S"
      },
      "source": [
        "We can see that the cosine similarity approach seems to recommend 3 beers that contain the attributes at a higher rate (88%, 96% and 92%) than the word vector similarity recommendation (88%, 88%, 92%). This makes intuitive sense as the word vector similarity score will be taking into account synonyms in addition to the attributes themselves. \n"
      ]
    },
    {
      "cell_type": "markdown",
      "metadata": {
        "id": "ZXcC2mZvnBKs"
      },
      "source": [
        "## Task G\n",
        "Finally, we can check the simple approach of recommending the beers with the highest ratings."
      ]
    },
    {
      "cell_type": "code",
      "metadata": {
        "id": "pKzXoa3unLIm",
        "outputId": "09212135-c56d-4bb4-f9a3-d15c1966098c",
        "colab": {
          "base_uri": "https://localhost:8080/",
          "height": 364
        }
      },
      "source": [
        "display(beer_data.groupby(['product_name']).mean().sort_values(by = 'user_rating', ascending = False)[:3])"
      ],
      "execution_count": null,
      "outputs": [
        {
          "output_type": "display_data",
          "data": {
            "text/html": [
              "<div>\n",
              "<style scoped>\n",
              "    .dataframe tbody tr th:only-of-type {\n",
              "        vertical-align: middle;\n",
              "    }\n",
              "\n",
              "    .dataframe tbody tr th {\n",
              "        vertical-align: top;\n",
              "    }\n",
              "\n",
              "    .dataframe thead th {\n",
              "        text-align: right;\n",
              "    }\n",
              "</style>\n",
              "<table border=\"1\" class=\"dataframe\">\n",
              "  <thead>\n",
              "    <tr style=\"text-align: right;\">\n",
              "      <th></th>\n",
              "      <th>user_rating</th>\n",
              "      <th>hop_sent</th>\n",
              "      <th>fruit_sent</th>\n",
              "      <th>sweet_sent</th>\n",
              "      <th>average_sent</th>\n",
              "      <th>similarity</th>\n",
              "      <th>elevation_score</th>\n",
              "      <th>vector_similarity</th>\n",
              "      <th>has hop</th>\n",
              "      <th>has fruit</th>\n",
              "      <th>has sweet</th>\n",
              "      <th>contains_attribute</th>\n",
              "      <th>vector_elevation</th>\n",
              "    </tr>\n",
              "    <tr>\n",
              "      <th>product_name</th>\n",
              "      <th></th>\n",
              "      <th></th>\n",
              "      <th></th>\n",
              "      <th></th>\n",
              "      <th></th>\n",
              "      <th></th>\n",
              "      <th></th>\n",
              "      <th></th>\n",
              "      <th></th>\n",
              "      <th></th>\n",
              "      <th></th>\n",
              "      <th></th>\n",
              "      <th></th>\n",
              "    </tr>\n",
              "  </thead>\n",
              "  <tbody>\n",
              "    <tr>\n",
              "      <th>Chemtrailmix - 3 Floyds Brewing Co.</th>\n",
              "      <td>4.754286</td>\n",
              "      <td>-0.003290</td>\n",
              "      <td>0.000000</td>\n",
              "      <td>0.180443</td>\n",
              "      <td>0.059051</td>\n",
              "      <td>0.145224</td>\n",
              "      <td>0.204275</td>\n",
              "      <td>0.659392</td>\n",
              "      <td>0.095238</td>\n",
              "      <td>0.00</td>\n",
              "      <td>0.333333</td>\n",
              "      <td>0.380952</td>\n",
              "      <td>0.718443</td>\n",
              "    </tr>\n",
              "    <tr>\n",
              "      <th>It Was All A Dream - J. Wakefield Brewing</th>\n",
              "      <td>4.747200</td>\n",
              "      <td>0.000000</td>\n",
              "      <td>0.018352</td>\n",
              "      <td>0.239392</td>\n",
              "      <td>0.085915</td>\n",
              "      <td>0.122186</td>\n",
              "      <td>0.208100</td>\n",
              "      <td>0.666144</td>\n",
              "      <td>0.040000</td>\n",
              "      <td>0.04</td>\n",
              "      <td>0.320000</td>\n",
              "      <td>0.360000</td>\n",
              "      <td>0.752059</td>\n",
              "    </tr>\n",
              "    <tr>\n",
              "      <th>SR-71 - Toppling Goliath Brewing Company</th>\n",
              "      <td>4.746400</td>\n",
              "      <td>0.017616</td>\n",
              "      <td>0.014448</td>\n",
              "      <td>0.087300</td>\n",
              "      <td>0.039788</td>\n",
              "      <td>0.157963</td>\n",
              "      <td>0.197751</td>\n",
              "      <td>0.624186</td>\n",
              "      <td>0.040000</td>\n",
              "      <td>0.12</td>\n",
              "      <td>0.240000</td>\n",
              "      <td>0.360000</td>\n",
              "      <td>0.663974</td>\n",
              "    </tr>\n",
              "  </tbody>\n",
              "</table>\n",
              "</div>"
            ],
            "text/plain": [
              "                                           user_rating  ...  vector_elevation\n",
              "product_name                                            ...                  \n",
              "Chemtrailmix - 3 Floyds Brewing Co.           4.754286  ...          0.718443\n",
              "It Was All A Dream - J. Wakefield Brewing     4.747200  ...          0.752059\n",
              "SR-71 - Toppling Goliath Brewing Company      4.746400  ...          0.663974\n",
              "\n",
              "[3 rows x 13 columns]"
            ]
          },
          "metadata": {
            "tags": []
          }
        }
      ]
    },
    {
      "cell_type": "markdown",
      "metadata": {
        "id": "FWluM4Znn93F"
      },
      "source": [
        "From the three beers with the highest ratings shown above, none of them were recommended by the cosine similarity or vector similarity systems. They all have relatively low occurence percentages of the attributes desired, and low elevation scores. Thus, we see the value in a recommendation system that takes attributes and sentiments into account to deliver a recommendation that matches the qualities the customer desires. "
      ]
    }
  ]
}